{
  "nbformat": 4,
  "nbformat_minor": 0,
  "metadata": {
    "colab": {
      "name": "final_model2.ipynb",
      "provenance": []
    },
    "kernelspec": {
      "name": "python3",
      "display_name": "Python 3"
    },
    "language_info": {
      "name": "python"
    },
    "accelerator": "GPU"
  },
  "cells": [
    {
      "cell_type": "code",
      "execution_count": 1,
      "metadata": {
        "colab": {
          "base_uri": "https://localhost:8080/"
        },
        "id": "4w-lzULbPT22",
        "outputId": "c407b079-cd87-43c3-b59c-b12fcdf9ae95"
      },
      "outputs": [
        {
          "output_type": "stream",
          "name": "stdout",
          "text": [
            "Mounted at /content/drive\n"
          ]
        }
      ],
      "source": [
        "from google.colab import drive\n",
        "drive.mount('/content/drive')"
      ]
    },
    {
      "cell_type": "code",
      "source": [
        "!pip install gym-jsbsim\n",
        "!pip install stable-baselines3[extra]\n",
        "!pip install tensorboardX"
      ],
      "metadata": {
        "colab": {
          "base_uri": "https://localhost:8080/"
        },
        "id": "ANxUUyWnPagN",
        "outputId": "c3bb26d4-c810-4729-8028-5c20b8feafb9"
      },
      "execution_count": 2,
      "outputs": [
        {
          "output_type": "stream",
          "name": "stdout",
          "text": [
            "Collecting gym-jsbsim\n",
            "  Downloading gym_jsbsim-0.6.7-py2.py3-none-any.whl (533 kB)\n",
            "\u001b[K     |████████████████████████████████| 533 kB 5.3 MB/s \n",
            "\u001b[?25hCollecting folium>=0.10.1\n",
            "  Downloading folium-0.12.1.post1-py2.py3-none-any.whl (95 kB)\n",
            "\u001b[K     |████████████████████████████████| 95 kB 3.7 MB/s \n",
            "\u001b[?25hCollecting jsbsim>=1.1.1\n",
            "  Downloading JSBSim-1.1.11-cp37-cp37m-manylinux_2_12_x86_64.manylinux2010_x86_64.whl (24.0 MB)\n",
            "\u001b[K     |████████████████████████████████| 24.0 MB 1.5 MB/s \n",
            "\u001b[?25hRequirement already satisfied: gym>=0.15.7 in /usr/local/lib/python3.7/dist-packages (from gym-jsbsim) (0.17.3)\n",
            "Requirement already satisfied: geographiclib>=1.50 in /usr/local/lib/python3.7/dist-packages (from gym-jsbsim) (1.52)\n",
            "Requirement already satisfied: shapely>=1.7.1 in /usr/local/lib/python3.7/dist-packages (from gym-jsbsim) (1.8.1.post1)\n",
            "Requirement already satisfied: jinja2>=2.9 in /usr/local/lib/python3.7/dist-packages (from folium>=0.10.1->gym-jsbsim) (2.11.3)\n",
            "Requirement already satisfied: numpy in /usr/local/lib/python3.7/dist-packages (from folium>=0.10.1->gym-jsbsim) (1.21.5)\n",
            "Requirement already satisfied: requests in /usr/local/lib/python3.7/dist-packages (from folium>=0.10.1->gym-jsbsim) (2.23.0)\n",
            "Requirement already satisfied: branca>=0.3.0 in /usr/local/lib/python3.7/dist-packages (from folium>=0.10.1->gym-jsbsim) (0.4.2)\n",
            "Requirement already satisfied: pyglet<=1.5.0,>=1.4.0 in /usr/local/lib/python3.7/dist-packages (from gym>=0.15.7->gym-jsbsim) (1.5.0)\n",
            "Requirement already satisfied: scipy in /usr/local/lib/python3.7/dist-packages (from gym>=0.15.7->gym-jsbsim) (1.4.1)\n",
            "Requirement already satisfied: cloudpickle<1.7.0,>=1.2.0 in /usr/local/lib/python3.7/dist-packages (from gym>=0.15.7->gym-jsbsim) (1.3.0)\n",
            "Requirement already satisfied: MarkupSafe>=0.23 in /usr/local/lib/python3.7/dist-packages (from jinja2>=2.9->folium>=0.10.1->gym-jsbsim) (2.0.1)\n",
            "Requirement already satisfied: setuptools in /usr/local/lib/python3.7/dist-packages (from jsbsim>=1.1.1->gym-jsbsim) (57.4.0)\n",
            "Requirement already satisfied: future in /usr/local/lib/python3.7/dist-packages (from pyglet<=1.5.0,>=1.4.0->gym>=0.15.7->gym-jsbsim) (0.16.0)\n",
            "Requirement already satisfied: certifi>=2017.4.17 in /usr/local/lib/python3.7/dist-packages (from requests->folium>=0.10.1->gym-jsbsim) (2021.10.8)\n",
            "Requirement already satisfied: urllib3!=1.25.0,!=1.25.1,<1.26,>=1.21.1 in /usr/local/lib/python3.7/dist-packages (from requests->folium>=0.10.1->gym-jsbsim) (1.24.3)\n",
            "Requirement already satisfied: idna<3,>=2.5 in /usr/local/lib/python3.7/dist-packages (from requests->folium>=0.10.1->gym-jsbsim) (2.10)\n",
            "Requirement already satisfied: chardet<4,>=3.0.2 in /usr/local/lib/python3.7/dist-packages (from requests->folium>=0.10.1->gym-jsbsim) (3.0.4)\n",
            "Installing collected packages: jsbsim, folium, gym-jsbsim\n",
            "  Attempting uninstall: folium\n",
            "    Found existing installation: folium 0.8.3\n",
            "    Uninstalling folium-0.8.3:\n",
            "      Successfully uninstalled folium-0.8.3\n",
            "\u001b[31mERROR: pip's dependency resolver does not currently take into account all the packages that are installed. This behaviour is the source of the following dependency conflicts.\n",
            "datascience 0.10.6 requires folium==0.2.1, but you have folium 0.12.1.post1 which is incompatible.\u001b[0m\n",
            "Successfully installed folium-0.12.1.post1 gym-jsbsim-0.6.7 jsbsim-1.1.11\n",
            "Collecting stable-baselines3[extra]\n",
            "  Downloading stable_baselines3-1.4.0-py3-none-any.whl (176 kB)\n",
            "\u001b[K     |████████████████████████████████| 176 kB 5.3 MB/s \n",
            "\u001b[?25hRequirement already satisfied: gym<0.20,>=0.17 in /usr/local/lib/python3.7/dist-packages (from stable-baselines3[extra]) (0.17.3)\n",
            "Requirement already satisfied: cloudpickle in /usr/local/lib/python3.7/dist-packages (from stable-baselines3[extra]) (1.3.0)\n",
            "Requirement already satisfied: pandas in /usr/local/lib/python3.7/dist-packages (from stable-baselines3[extra]) (1.3.5)\n",
            "Requirement already satisfied: matplotlib in /usr/local/lib/python3.7/dist-packages (from stable-baselines3[extra]) (3.2.2)\n",
            "Requirement already satisfied: torch>=1.8.1 in /usr/local/lib/python3.7/dist-packages (from stable-baselines3[extra]) (1.10.0+cu111)\n",
            "Requirement already satisfied: numpy in /usr/local/lib/python3.7/dist-packages (from stable-baselines3[extra]) (1.21.5)\n",
            "Collecting atari-py==0.2.6\n",
            "  Downloading atari_py-0.2.6-cp37-cp37m-manylinux1_x86_64.whl (2.8 MB)\n",
            "\u001b[K     |████████████████████████████████| 2.8 MB 39.4 MB/s \n",
            "\u001b[?25hRequirement already satisfied: tensorboard>=2.2.0 in /usr/local/lib/python3.7/dist-packages (from stable-baselines3[extra]) (2.8.0)\n",
            "Requirement already satisfied: opencv-python in /usr/local/lib/python3.7/dist-packages (from stable-baselines3[extra]) (4.1.2.30)\n",
            "Requirement already satisfied: psutil in /usr/local/lib/python3.7/dist-packages (from stable-baselines3[extra]) (5.4.8)\n",
            "Requirement already satisfied: pillow in /usr/local/lib/python3.7/dist-packages (from stable-baselines3[extra]) (7.1.2)\n",
            "Requirement already satisfied: six in /usr/local/lib/python3.7/dist-packages (from atari-py==0.2.6->stable-baselines3[extra]) (1.15.0)\n",
            "Requirement already satisfied: scipy in /usr/local/lib/python3.7/dist-packages (from gym<0.20,>=0.17->stable-baselines3[extra]) (1.4.1)\n",
            "Requirement already satisfied: pyglet<=1.5.0,>=1.4.0 in /usr/local/lib/python3.7/dist-packages (from gym<0.20,>=0.17->stable-baselines3[extra]) (1.5.0)\n",
            "Requirement already satisfied: future in /usr/local/lib/python3.7/dist-packages (from pyglet<=1.5.0,>=1.4.0->gym<0.20,>=0.17->stable-baselines3[extra]) (0.16.0)\n",
            "Requirement already satisfied: setuptools>=41.0.0 in /usr/local/lib/python3.7/dist-packages (from tensorboard>=2.2.0->stable-baselines3[extra]) (57.4.0)\n",
            "Requirement already satisfied: tensorboard-data-server<0.7.0,>=0.6.0 in /usr/local/lib/python3.7/dist-packages (from tensorboard>=2.2.0->stable-baselines3[extra]) (0.6.1)\n",
            "Requirement already satisfied: werkzeug>=0.11.15 in /usr/local/lib/python3.7/dist-packages (from tensorboard>=2.2.0->stable-baselines3[extra]) (1.0.1)\n",
            "Requirement already satisfied: markdown>=2.6.8 in /usr/local/lib/python3.7/dist-packages (from tensorboard>=2.2.0->stable-baselines3[extra]) (3.3.6)\n",
            "Requirement already satisfied: google-auth-oauthlib<0.5,>=0.4.1 in /usr/local/lib/python3.7/dist-packages (from tensorboard>=2.2.0->stable-baselines3[extra]) (0.4.6)\n",
            "Requirement already satisfied: protobuf>=3.6.0 in /usr/local/lib/python3.7/dist-packages (from tensorboard>=2.2.0->stable-baselines3[extra]) (3.17.3)\n",
            "Requirement already satisfied: absl-py>=0.4 in /usr/local/lib/python3.7/dist-packages (from tensorboard>=2.2.0->stable-baselines3[extra]) (1.0.0)\n",
            "Requirement already satisfied: wheel>=0.26 in /usr/local/lib/python3.7/dist-packages (from tensorboard>=2.2.0->stable-baselines3[extra]) (0.37.1)\n",
            "Requirement already satisfied: requests<3,>=2.21.0 in /usr/local/lib/python3.7/dist-packages (from tensorboard>=2.2.0->stable-baselines3[extra]) (2.23.0)\n",
            "Requirement already satisfied: grpcio>=1.24.3 in /usr/local/lib/python3.7/dist-packages (from tensorboard>=2.2.0->stable-baselines3[extra]) (1.44.0)\n",
            "Requirement already satisfied: tensorboard-plugin-wit>=1.6.0 in /usr/local/lib/python3.7/dist-packages (from tensorboard>=2.2.0->stable-baselines3[extra]) (1.8.1)\n",
            "Requirement already satisfied: google-auth<3,>=1.6.3 in /usr/local/lib/python3.7/dist-packages (from tensorboard>=2.2.0->stable-baselines3[extra]) (1.35.0)\n",
            "Requirement already satisfied: pyasn1-modules>=0.2.1 in /usr/local/lib/python3.7/dist-packages (from google-auth<3,>=1.6.3->tensorboard>=2.2.0->stable-baselines3[extra]) (0.2.8)\n",
            "Requirement already satisfied: rsa<5,>=3.1.4 in /usr/local/lib/python3.7/dist-packages (from google-auth<3,>=1.6.3->tensorboard>=2.2.0->stable-baselines3[extra]) (4.8)\n",
            "Requirement already satisfied: cachetools<5.0,>=2.0.0 in /usr/local/lib/python3.7/dist-packages (from google-auth<3,>=1.6.3->tensorboard>=2.2.0->stable-baselines3[extra]) (4.2.4)\n",
            "Requirement already satisfied: requests-oauthlib>=0.7.0 in /usr/local/lib/python3.7/dist-packages (from google-auth-oauthlib<0.5,>=0.4.1->tensorboard>=2.2.0->stable-baselines3[extra]) (1.3.1)\n",
            "Requirement already satisfied: importlib-metadata>=4.4 in /usr/local/lib/python3.7/dist-packages (from markdown>=2.6.8->tensorboard>=2.2.0->stable-baselines3[extra]) (4.11.2)\n",
            "Requirement already satisfied: zipp>=0.5 in /usr/local/lib/python3.7/dist-packages (from importlib-metadata>=4.4->markdown>=2.6.8->tensorboard>=2.2.0->stable-baselines3[extra]) (3.7.0)\n",
            "Requirement already satisfied: typing-extensions>=3.6.4 in /usr/local/lib/python3.7/dist-packages (from importlib-metadata>=4.4->markdown>=2.6.8->tensorboard>=2.2.0->stable-baselines3[extra]) (3.10.0.2)\n",
            "Requirement already satisfied: pyasn1<0.5.0,>=0.4.6 in /usr/local/lib/python3.7/dist-packages (from pyasn1-modules>=0.2.1->google-auth<3,>=1.6.3->tensorboard>=2.2.0->stable-baselines3[extra]) (0.4.8)\n",
            "Requirement already satisfied: urllib3!=1.25.0,!=1.25.1,<1.26,>=1.21.1 in /usr/local/lib/python3.7/dist-packages (from requests<3,>=2.21.0->tensorboard>=2.2.0->stable-baselines3[extra]) (1.24.3)\n",
            "Requirement already satisfied: certifi>=2017.4.17 in /usr/local/lib/python3.7/dist-packages (from requests<3,>=2.21.0->tensorboard>=2.2.0->stable-baselines3[extra]) (2021.10.8)\n",
            "Requirement already satisfied: idna<3,>=2.5 in /usr/local/lib/python3.7/dist-packages (from requests<3,>=2.21.0->tensorboard>=2.2.0->stable-baselines3[extra]) (2.10)\n",
            "Requirement already satisfied: chardet<4,>=3.0.2 in /usr/local/lib/python3.7/dist-packages (from requests<3,>=2.21.0->tensorboard>=2.2.0->stable-baselines3[extra]) (3.0.4)\n",
            "Requirement already satisfied: oauthlib>=3.0.0 in /usr/local/lib/python3.7/dist-packages (from requests-oauthlib>=0.7.0->google-auth-oauthlib<0.5,>=0.4.1->tensorboard>=2.2.0->stable-baselines3[extra]) (3.2.0)\n",
            "Requirement already satisfied: cycler>=0.10 in /usr/local/lib/python3.7/dist-packages (from matplotlib->stable-baselines3[extra]) (0.11.0)\n",
            "Requirement already satisfied: kiwisolver>=1.0.1 in /usr/local/lib/python3.7/dist-packages (from matplotlib->stable-baselines3[extra]) (1.3.2)\n",
            "Requirement already satisfied: pyparsing!=2.0.4,!=2.1.2,!=2.1.6,>=2.0.1 in /usr/local/lib/python3.7/dist-packages (from matplotlib->stable-baselines3[extra]) (3.0.7)\n",
            "Requirement already satisfied: python-dateutil>=2.1 in /usr/local/lib/python3.7/dist-packages (from matplotlib->stable-baselines3[extra]) (2.8.2)\n",
            "Requirement already satisfied: pytz>=2017.3 in /usr/local/lib/python3.7/dist-packages (from pandas->stable-baselines3[extra]) (2018.9)\n",
            "\u001b[33mWARNING: The candidate selected for download or install is a yanked version: 'atari-py' candidate (version 0.2.6 at https://files.pythonhosted.org/packages/8f/ba/1d22e9d2f332f07aaa57041f5dd569c2cb40a92bd6374a0b743ec3dfae97/atari_py-0.2.6-cp37-cp37m-manylinux1_x86_64.whl#sha256=d9e2c25d39783867c2f29d1dd9d3a659fc56036456d07dc9efe8bd7bb31a07d7 (from https://pypi.org/simple/atari-py/))\n",
            "Reason for being yanked: re-release with new wheels\u001b[0m\n",
            "Installing collected packages: stable-baselines3, atari-py\n",
            "  Attempting uninstall: atari-py\n",
            "    Found existing installation: atari-py 0.2.9\n",
            "    Uninstalling atari-py-0.2.9:\n",
            "      Successfully uninstalled atari-py-0.2.9\n",
            "Successfully installed atari-py-0.2.6 stable-baselines3-1.4.0\n",
            "Collecting tensorboardX\n",
            "  Downloading tensorboardX-2.5-py2.py3-none-any.whl (125 kB)\n",
            "\u001b[K     |████████████████████████████████| 125 kB 5.2 MB/s \n",
            "\u001b[?25hRequirement already satisfied: protobuf>=3.8.0 in /usr/local/lib/python3.7/dist-packages (from tensorboardX) (3.17.3)\n",
            "Requirement already satisfied: numpy in /usr/local/lib/python3.7/dist-packages (from tensorboardX) (1.21.5)\n",
            "Requirement already satisfied: six in /usr/local/lib/python3.7/dist-packages (from tensorboardX) (1.15.0)\n",
            "Installing collected packages: tensorboardX\n",
            "Successfully installed tensorboardX-2.5\n"
          ]
        }
      ]
    },
    {
      "cell_type": "code",
      "source": [
        "import gym\n",
        "import gym_jsbsim\n",
        "import numpy as np\n",
        "from stable_baselines3 import DQN, A2C, DDPG, HER, PPO, SAC, TD3\n",
        "from stable_baselines3.common.env_checker import check_env"
      ],
      "metadata": {
        "colab": {
          "base_uri": "https://localhost:8080/"
        },
        "id": "iBNncWeVPcga",
        "outputId": "adc9f38c-28ab-46a4-acdf-c06eea7ea7ee"
      },
      "execution_count": 3,
      "outputs": [
        {
          "output_type": "stream",
          "name": "stdout",
          "text": [
            "Warning: You are using jsbsim-1.1.11 while gym-jsbsin was generated with 1.1.1\n"
          ]
        }
      ]
    },
    {
      "cell_type": "code",
      "source": [
        "class Obs_TupleToBoxWrapper(gym.ObservationWrapper):\n",
        "    def __init__(self, env):\n",
        "        super().__init__(env)\n",
        "        low = np.empty(shape=(0,))\n",
        "        high = np.empty(shape=(0,))\n",
        "        for i in env.observation_space:\n",
        "          low = np.concatenate([low,i.low])\n",
        "          high = np.concatenate([high,i.high])\n",
        "        self.observation_space = gym.spaces.Box(low=low, high=high, dtype=\"float\")\n",
        "        \n",
        "    \n",
        "    def observation(self, obs):\n",
        "        new_obs = np.empty(shape=(0,))\n",
        "        for i in obs:\n",
        "          new_obs = np.concatenate([new_obs,i])\n",
        "        return new_obs"
      ],
      "metadata": {
        "id": "yIRFU6-uPg7x"
      },
      "execution_count": 4,
      "outputs": []
    },
    {
      "cell_type": "code",
      "source": [
        "class Act_TupleToBoxWrapper(gym.ActionWrapper):\n",
        "    def __init__(self, env):\n",
        "        super().__init__(env)\n",
        "        low = np.empty(shape=(0,))\n",
        "        high = np.empty(shape=(0,))\n",
        "        for i in env.action_space:\n",
        "          low = np.concatenate([low,i.low])\n",
        "          high = np.concatenate([high,i.high])\n",
        "        self.action_space = gym.spaces.Box(low=low, high=high, dtype=\"float\")\n",
        "        \n",
        "    \n",
        "    def action(self, act):\n",
        "#        print(act)\n",
        "#        new_act = np.empty(shape=(0,))\n",
        "#        for i in act:\n",
        "#          new_act = np.concatenate([new_act,i])\n",
        "        return act"
      ],
      "metadata": {
        "id": "4IGyxSvWPj4f"
      },
      "execution_count": 5,
      "outputs": []
    },
    {
      "cell_type": "code",
      "source": [
        "env = gym.make(\"GymJsbsim-HeadingControlTask-v0\")\n",
        "#print(env.observation_space)\n",
        "#print(env.observation_space.sample())\n",
        "#print(env.action_space)\n",
        "#print(env.action_space.sample())\n",
        "#print(\"\")\n",
        "env = Obs_TupleToBoxWrapper(env)\n",
        "#print(env.observation_space)\n",
        "#print(env.observation_space.sample())\n",
        "#print(env.action_space)\n",
        "#print(env.action_space.sample())\n",
        "#print(\"\")\n",
        "env = Act_TupleToBoxWrapper(env)\n",
        "#print(env.observation_space)\n",
        "#print(env.observation_space.sample())\n",
        "#print(env.action_space)\n",
        "#print(env.action_space.sample())"
      ],
      "metadata": {
        "colab": {
          "base_uri": "https://localhost:8080/"
        },
        "id": "JMeRj5i-PmpI",
        "outputId": "7de32e36-aa26-4e2d-fc55-d12fae268418"
      },
      "execution_count": 6,
      "outputs": [
        {
          "output_type": "stream",
          "name": "stderr",
          "text": [
            "/usr/local/lib/python3.7/dist-packages/gym/logger.py:30: UserWarning: \u001b[33mWARN: Box bound precision lowered by casting to float64\u001b[0m\n",
            "  warnings.warn(colorize('%s: %s'%('WARN', msg % args), 'yellow'))\n"
          ]
        }
      ]
    },
    {
      "cell_type": "code",
      "source": [
        "model = PPO.load(\"/content/drive/Shareddrives/Learn_to_fly/ppo_model_andy1_heading_rollscalar.zip\", env=env)\n",
        "reward_liste = []\n",
        "for episode in range(100):\n",
        "  episode_reward = 0\n",
        "  obs = env.reset()\n",
        "  done = False\n",
        "  while not done:\n",
        "    action, _states = model.predict(obs, deterministic=True)\n",
        "    state, reward, done, _ = env.step(action)\n",
        "    episode_reward += reward\n",
        "  reward_liste.append(episode_reward)\n",
        "  print(\"episode\", episode, \" ---> reward = \", episode_reward)\n",
        "print(\"nb steps = \", len(reward_liste), \"sum reward =\", sum(reward_liste), \", mean reward =\", sum(reward_liste)/len(reward_liste))"
      ],
      "metadata": {
        "id": "nT9U7B-fbGKC",
        "colab": {
          "base_uri": "https://localhost:8080/"
        },
        "outputId": "009023e1-9003-449c-cf35-55f9b35b703c"
      },
      "execution_count": 7,
      "outputs": [
        {
          "output_type": "stream",
          "name": "stdout",
          "text": [
            "Wrapping the env with a `Monitor` wrapper\n",
            "Wrapping the env in a DummyVecEnv.\n"
          ]
        },
        {
          "output_type": "stream",
          "name": "stderr",
          "text": [
            "/usr/local/lib/python3.7/dist-packages/gym/logger.py:30: UserWarning: \u001b[33mWARN: Box bound precision lowered by casting to float64\u001b[0m\n",
            "  warnings.warn(colorize('%s: %s'%('WARN', msg % args), 'yellow'))\n"
          ]
        },
        {
          "output_type": "stream",
          "name": "stdout",
          "text": [
            "episode 0  ---> reward =  76.84024383332341\n",
            "episode 1  ---> reward =  76.84024383332341\n",
            "episode 2  ---> reward =  76.84024383332341\n",
            "episode 3  ---> reward =  76.84024383332341\n",
            "episode 4  ---> reward =  76.84024383332341\n",
            "episode 5  ---> reward =  76.84024383332341\n",
            "episode 6  ---> reward =  76.84024383332341\n",
            "episode 7  ---> reward =  76.84024383332341\n",
            "episode 8  ---> reward =  76.84024383332341\n",
            "episode 9  ---> reward =  76.84024383332341\n",
            "episode 10  ---> reward =  76.84024383332341\n",
            "episode 11  ---> reward =  76.84024383332341\n",
            "episode 12  ---> reward =  76.84024383332341\n",
            "episode 13  ---> reward =  76.84024383332341\n",
            "episode 14  ---> reward =  76.84024383332341\n",
            "episode 15  ---> reward =  76.84024383332341\n",
            "episode 16  ---> reward =  76.84024383332341\n",
            "episode 17  ---> reward =  76.84024383332341\n",
            "episode 18  ---> reward =  76.84024383332341\n",
            "episode 19  ---> reward =  76.84024383332341\n",
            "episode 20  ---> reward =  76.84024383332341\n",
            "episode 21  ---> reward =  76.84024383332341\n",
            "episode 22  ---> reward =  76.84024383332341\n",
            "episode 23  ---> reward =  76.84024383332341\n",
            "episode 24  ---> reward =  76.84024383332341\n",
            "episode 25  ---> reward =  76.84024383332341\n",
            "episode 26  ---> reward =  76.84024383332341\n",
            "episode 27  ---> reward =  76.84024383332341\n",
            "episode 28  ---> reward =  76.84024383332341\n",
            "episode 29  ---> reward =  76.84024383332341\n",
            "episode 30  ---> reward =  76.84024383332341\n",
            "episode 31  ---> reward =  76.84024383332341\n",
            "episode 32  ---> reward =  76.84024383332341\n",
            "episode 33  ---> reward =  76.84024383332341\n",
            "episode 34  ---> reward =  76.84024383332341\n",
            "episode 35  ---> reward =  76.84024383332341\n",
            "episode 36  ---> reward =  76.84024383332341\n",
            "episode 37  ---> reward =  76.84024383332341\n",
            "episode 38  ---> reward =  76.84024383332341\n",
            "episode 39  ---> reward =  76.84024383332341\n",
            "episode 40  ---> reward =  76.84024383332341\n",
            "episode 41  ---> reward =  76.84024383332341\n",
            "episode 42  ---> reward =  76.84024383332341\n",
            "episode 43  ---> reward =  76.84024383332341\n",
            "episode 44  ---> reward =  76.84024383332341\n",
            "episode 45  ---> reward =  76.84024383332341\n",
            "episode 46  ---> reward =  76.84024383332341\n",
            "episode 47  ---> reward =  76.84024383332341\n",
            "episode 48  ---> reward =  76.84024383332341\n",
            "episode 49  ---> reward =  76.84024383332341\n",
            "episode 50  ---> reward =  76.84024383332341\n",
            "episode 51  ---> reward =  76.84024383332341\n",
            "episode 52  ---> reward =  76.84024383332341\n",
            "episode 53  ---> reward =  76.84024383332341\n",
            "episode 54  ---> reward =  76.84024383332341\n",
            "episode 55  ---> reward =  76.84024383332341\n",
            "episode 56  ---> reward =  76.84024383332341\n",
            "episode 57  ---> reward =  76.84024383332341\n",
            "episode 58  ---> reward =  76.84024383332341\n",
            "episode 59  ---> reward =  76.84024383332341\n",
            "episode 60  ---> reward =  76.84024383332341\n",
            "episode 61  ---> reward =  76.84024383332341\n",
            "episode 62  ---> reward =  76.84024383332341\n",
            "episode 63  ---> reward =  76.84024383332341\n",
            "episode 64  ---> reward =  76.84024383332341\n",
            "episode 65  ---> reward =  76.84024383332341\n",
            "episode 66  ---> reward =  76.84024383332341\n",
            "episode 67  ---> reward =  76.84024383332341\n",
            "episode 68  ---> reward =  76.84024383332341\n",
            "episode 69  ---> reward =  76.84024383332341\n",
            "episode 70  ---> reward =  76.84024383332341\n",
            "episode 71  ---> reward =  76.84024383332341\n",
            "episode 72  ---> reward =  76.84024383332341\n",
            "episode 73  ---> reward =  76.84024383332341\n",
            "episode 74  ---> reward =  76.84024383332341\n",
            "episode 75  ---> reward =  76.84024383332341\n",
            "episode 76  ---> reward =  76.84024383332341\n",
            "episode 77  ---> reward =  76.84024383332341\n",
            "episode 78  ---> reward =  76.84024383332341\n",
            "episode 79  ---> reward =  76.84024383332341\n",
            "episode 80  ---> reward =  76.84024383332341\n",
            "episode 81  ---> reward =  76.84024383332341\n",
            "episode 82  ---> reward =  76.84024383332341\n",
            "episode 83  ---> reward =  76.84024383332341\n",
            "episode 84  ---> reward =  76.84024383332341\n",
            "episode 85  ---> reward =  76.84024383332341\n",
            "episode 86  ---> reward =  76.84024383332341\n",
            "episode 87  ---> reward =  76.84024383332341\n",
            "episode 88  ---> reward =  76.84024383332341\n",
            "episode 89  ---> reward =  76.84024383332341\n",
            "episode 90  ---> reward =  76.84024383332341\n",
            "episode 91  ---> reward =  76.84024383332341\n",
            "episode 92  ---> reward =  76.84024383332341\n",
            "episode 93  ---> reward =  76.84024383332341\n",
            "episode 94  ---> reward =  76.84024383332341\n",
            "episode 95  ---> reward =  76.84024383332341\n",
            "episode 96  ---> reward =  76.84024383332341\n",
            "episode 97  ---> reward =  76.84024383332341\n",
            "episode 98  ---> reward =  76.84024383332341\n",
            "episode 99  ---> reward =  76.84024383332341\n",
            "nb steps =  100 sum reward = 7684.024383332331 , mean reward = 76.84024383332331\n"
          ]
        }
      ]
    }
  ]
}